{
  "nbformat": 4,
  "nbformat_minor": 0,
  "metadata": {
    "colab": {
      "provenance": []
    },
    "kernelspec": {
      "name": "python3",
      "display_name": "Python 3"
    },
    "language_info": {
      "name": "python"
    }
  },
  "cells": [
    {
      "cell_type": "markdown",
      "source": [
        "# **Query spatial data for new insights**"
      ],
      "metadata": {
        "id": "C0ymCPR5aSHN"
      }
    },
    {
      "cell_type": "markdown",
      "source": [
        "🚀 Created by Hera Dashnyam\n",
        "\n",
        "02/28/2025"
      ],
      "metadata": {
        "id": "Pt_OREXFPvkr"
      }
    },
    {
      "cell_type": "markdown",
      "source": [
        "## **Overview**\n",
        "\n",
        "This notebook features our latest work in conducting table queries, selections, making new datasets with table joins, and turning queried datasets into meaningful maps. You will find the following deliverables in this notebook:\n",
        "\n",
        "- A map showing High Population Counties with High Old/Young Ratios for counties in the Contiguous U.S. using the 2000 U.S. Census data\n",
        "\n",
        "- A map showing the Soil Fertility in a portion of Macon County, North Carolina"
      ],
      "metadata": {
        "id": "6tKmlbnzny_I"
      }
    },
    {
      "cell_type": "markdown",
      "source": [
        "## **Map old/young ratios of counties in Contiguous U.S.**\n"
      ],
      "metadata": {
        "id": "WVs4J1jQbESU"
      }
    },
    {
      "cell_type": "markdown",
      "source": [
        "- We computed the **Age Index** using a ratio between **old** and **young** with data of population over 65 years old and population younger than 21 years old\n",
        "\n",
        "- We used the checklist below to make sure our map contains all necessary map content and is formatted correctly\n",
        "\n",
        "  - [X] Contains a title with byline (i.e., by [your name])\n",
        "  - [X] Use a larger and bold font type for the title\n",
        "  - [X] Contains one layer colored in bright yellow for **Old Counties**\n",
        "  - [X] Contains a layer of all Contiguous U.S. counties with Age Index shown as a choropleth map\n",
        "  - [X] Uses an **orange** color for the outline of **Old Counties** layer\n",
        "  - [X] Uses a **transparent** color or **zero** outline width for the outline of **US Counties** layer\n",
        "  - [X] Uses **Age Index** as the subleading of **US Counties** layer\n",
        "  - [X] Lists the names of counties with Age Index > 85 in the map\n",
        "  - [X] Contains a map scale\n",
        "  - [X] Contains a legend\n",
        "  - [X] Contains a north arrow\n",
        "  - [X] Uses a balanced layout for all map elements\n",
        "    - [X] Map stays in the center of layout\n",
        "    - [X] Font size of title is appropriate (not too big or too small)\n",
        "    - [X] Font size of extra information (counties w/ Age Index > 85) is small\n",
        "    - [X] Positions of legend and map scale bar are near the bottom\n",
        "    - [X] Legend, map scale bar, and north arrow has an appropriate size (big enough to read information, small enough to reserve most of space for map layers"
      ],
      "metadata": {
        "id": "bXB_pi-aPTOT"
      }
    },
    {
      "cell_type": "markdown",
      "source": [
        "```markdown\n",
        "https://drive.google.com/file/d/1sodM_fm2JKpDIeHrVNSEhK0ZRv2K8h2P/view?usp=sharing\n",
        "```\n",
        "\n",
        "- After finishing the two steps below, a link can be created to correctly rendered in Google Colab\n",
        "  - Deleted **`/view?usp=sharing`** at the end of the link\n",
        "  - Replaced **`/file/d/`** with **`/uc?export=view&id=`**\n",
        "\n",
        "```markdown\n",
        "https://drive.google.com/uc?export=view&id=1sodM_fm2JKpDIeHrVNSEhK0ZRv2K8h2P\n",
        "```\n",
        "\n",
        "- The map can be inserted in Google Colab following the syntax [from here](https://www.markdownguide.org/cheat-sheet/)\n",
        "\n",
        "```markdown\n",
        "Insert the map here using syntax:\n",
        "![oldest counties map](revised link)\n",
        "```\n",
        "\n",
        "![oldest counties map](https://drive.google.com/uc?export=view&id=1sodM_fm2JKpDIeHrVNSEhK0ZRv2K8h2P)"
      ],
      "metadata": {
        "id": "wkJqun7umRRk"
      }
    },
    {
      "cell_type": "markdown",
      "source": [
        "### **Interpreting the map**\n",
        "\n",
        "- The map above found the following counties with the highest Age Index\n",
        "\n",
        "| State      | # County with Agen Index > 85  |\n",
        "| ------- | --------------------- |\n",
        "| Arizona    | Yavapai  |\n",
        "| Massachusetts     | Barnstable  |\n",
        "| Florida     | Pinellas  |\n",
        "| Florida     | Collier  |\n",
        "| Florida     | Lake  |\n",
        "| Florida    | Volusia  |\n",
        "| Florida     | Pasco  |\n",
        "| Florida     | Marion  |\n",
        "| Florida     | Sarasota  |\n",
        "| Florida     | Palm Beach  |\n",
        "| Florida     | Lee  |\n",
        "| Florida     | Manatee  |\n",
        "| Florida     | St.Lucie  |\n"
      ],
      "metadata": {
        "id": "d8B4v6BIJYRw"
      }
    },
    {
      "cell_type": "markdown",
      "source": [
        "![US regions](https://www.legendsofamerica.com/wp-content/uploads/2020/03/UnitedStatesRegions.jpg)\n",
        "\n",
        "- In addition to states above, these regions also showed a relatively high (> 60) Age Index (refer to the map above for names of regions)\n",
        "  - Great Plains (ND, SD, NE, KS, OK)\n",
        "  - Mid-Atlantic (NY, PA, NJ, DE, MD)\n",
        "  - New England (ME, VT, NH, MA, BA)\n",
        "  - Rocky Mountain (MT, ID, WY, UT, CO)\n",
        "  - West Coast (CA, OR, WA)"
      ],
      "metadata": {
        "id": "KsimmmzQKbwM"
      }
    },
    {
      "cell_type": "markdown",
      "source": [
        "## **Using table join to create new data**\n",
        "\n",
        "- We created a new geospatial datafile with by joining a **Shapefile** (*demographics.shp*) with a **tabular file** (*more_data.dbf*).\n",
        "  - The **primary key** and **foreign key** used in both files are **BLKGRP**\n",
        "- With newly added data, we were able to identify counties with the number of household growing (HHPCTGROWT) and aveage household income (HHINCAVG) less than 30,000\n",
        "  - 17 of 167 records match these criteria"
      ],
      "metadata": {
        "id": "5bk5DtYP3f_g"
      }
    },
    {
      "cell_type": "markdown",
      "source": [
        "## **Map soil fertility in Macon County, North Carolina**\n",
        "\n",
        "- We created a new table by joining a **Shapefile** (*USCounty.shp*) with another **Shapefile** (*soils.shp*)\n",
        "- This new table contains a **Fertility Class** field that allows us to map the soil fertility\n",
        "- We also added ancillary information to the layout of our map to provide more information for our potential users who may need more details\n",
        "- We used the checklist below to make sure our map contains all necessary map content and is formatted correctly\n",
        "\n",
        "  - [X] Contains a title with byline (i.e., by [your name])\n",
        "  - [X] Use a larger and bold font type for the title\n",
        "  - [X] Contains a layer of soil fertility in a portion of Macon County, NC shown as a choropleth map\n",
        "  - [X] Uses **whole numbers** for the name of fertility class\n",
        "  - [X] Uses a **transparent** color or **zero** outline width for the outline of **US Counties** layer\n",
        "  - [X] Contains an ancillary table named **Created Soil Properties Table**\n",
        "  - [X] Size of the ancillary is appropriate and does not jeopardize the reading of the choropleth map\n",
        "  - [X] Contains a map scale\n",
        "  - [X] Contains a legend\n",
        "  - [X] Contains a north arrow\n",
        "  - [X] Uses a balanced layout for all map elements\n",
        "    - [X] Map stays in the center of layout\n",
        "    - [X] Font size of title is appropriate (not too big or too small)\n",
        "    - [X] Font size of ancillary tables is small\n",
        "    - [X] Positions of legend and map scale bar are near the bottom\n",
        "    - [X] Legend, map scale bar, and north arrow has an appropriate size (big enough to read information, small enough to reserve most of space for map layers"
      ],
      "metadata": {
        "id": "i4RTLellbUh7"
      }
    },
    {
      "cell_type": "markdown",
      "source": [
        "```markdown\n",
        "https://drive.google.com/file/d/18qRf2xLnRZ5Je_WeS0ofamHOlG7Qw73M/view?usp=sharing\n",
        "```\n",
        "\n",
        "- After finishing the two steps below, a link can be created to correctly rendered in Google Colab\n",
        "  - Deleted **`/view?usp=sharing`** at the end of the link\n",
        "  - Replaced **`/file/d/`** with **`/uc?export=view&id=`**\n",
        "\n",
        "```markdown\n",
        "https://drive.google.com/uc?export=view&id=18qRf2xLnRZ5Je_WeS0ofamHOlG7Qw73M\n",
        "```\n",
        "\n",
        "- The map can be inserted in Google Colab following the syntax [from here](https://www.markdownguide.org/cheat-sheet/)\n",
        "\n",
        "```markdown\n",
        "Insert the map here using syntax:\n",
        "![soil fertility](revised link)\n",
        "```\n",
        "\n",
        "![soil fertility](https://drive.google.com/uc?export=view&id=18qRf2xLnRZ5Je_WeS0ofamHOlG7Qw73M)"
      ],
      "metadata": {
        "id": "Lg1TAhUQY2Ev"
      }
    }
  ]
}